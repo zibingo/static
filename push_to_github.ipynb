{
 "cells": [
  {
   "cell_type": "code",
   "execution_count": 3,
   "id": "5aaaf723",
   "metadata": {},
   "outputs": [
    {
     "name": "stdout",
     "output_type": "stream",
     "text": [
      "Initialized empty Git repository in /home/ubuntu/notebook_folder/CNN_Digit_Recognizer/.git/\n"
     ]
    }
   ],
   "source": [
    "!rm -rf .git\n",
    "!git init"
   ]
  },
  {
   "cell_type": "code",
   "execution_count": 2,
   "id": "daa1a36e",
   "metadata": {},
   "outputs": [
    {
     "name": "stdout",
     "output_type": "stream",
     "text": [
      "[master (root-commit) a4454ab] 1\n",
      " 22 files changed, 128387 insertions(+)\n",
      " create mode 100644 .gitignore\n",
      " create mode 100644 .ipynb_checkpoints/push_to_github-checkpoint.ipynb\n",
      " create mode 100644 .ipynb_checkpoints/test-checkpoint.ipynb\n",
      " create mode 100644 __pycache__/config.cpython-310.pyc\n",
      " create mode 100644 __pycache__/getdata.cpython-310.pyc\n",
      " create mode 100644 __pycache__/network.cpython-310.pyc\n",
      " create mode 100644 config.py\n",
      " create mode 100644 datasets/test/test.csv\n",
      " create mode 100644 \"datasets/test/\\345\\215\\240\\344\\275\\215\\346\\226\\207\\344\\273\\266\"\n",
      " create mode 100644 datasets/train/train.csv\n",
      " create mode 100644 \"datasets/train/\\345\\215\\240\\344\\275\\215\\346\\226\\207\\344\\273\\266\"\n",
      " create mode 100644 getdata.py\n",
      " create mode 100644 \"model/\\345\\215\\240\\344\\275\\215\\346\\226\\207\\344\\273\\266\"\n",
      " create mode 100644 network.py\n",
      " create mode 100644 push_to_github.ipynb\n",
      " create mode 100644 run.log\n",
      " create mode 100644 submission/result.csv\n",
      " create mode 100644 submission/sample_submission.csv\n",
      " create mode 100644 \"submission/\\345\\215\\240\\344\\275\\215\\346\\226\\207\\344\\273\\266\"\n",
      " create mode 100644 test.ipynb\n",
      " create mode 100644 test.py\n",
      " create mode 100644 train.py\n",
      "Enumerating objects: 27, done.\n",
      "Counting objects: 100% (27/27), done.\n",
      "Delta compression using up to 2 threads\n",
      "Compressing objects: 100% (24/24), done.\n",
      "Writing objects: 100% (27/27), 19.50 MiB | 772.00 KiB/s, done.\n",
      "Total 27 (delta 2), reused 0 (delta 0), pack-reused 0\n",
      "remote: Resolving deltas: 100% (2/2), done.\u001b[K\n",
      "remote: \u001b[1;33mwarning\u001b[m: See https://gh.io/lfs for more information.\u001b[K\n",
      "remote: \u001b[1;33mwarning\u001b[m: File datasets/train/train.csv is 73.22 MB; this is larger than GitHub's recommended maximum file size of 50.00 MB\u001b[K\n",
      "remote: \u001b[1;33mwarning\u001b[m: GH001: Large files detected. You may want to try Git Large File Storage - https://git-lfs.github.com.\u001b[K\n",
      "To github.com:zibingo/static.git\n",
      " + 22ca3f4...a4454ab master -> master (forced update)\n",
      "Branch 'master' set up to track remote branch 'master' from 'master'.\n"
     ]
    }
   ],
   "source": [
    "!git add --all\n",
    "!git commit -m \"1\"\n",
    "!git remote add master git@github.com:zibingo/static.git\n",
    "!git push -u master -f"
   ]
  },
  {
   "cell_type": "code",
   "execution_count": null,
   "id": "57999939",
   "metadata": {},
   "outputs": [],
   "source": []
  },
  {
   "cell_type": "code",
   "execution_count": null,
   "id": "c55e1677",
   "metadata": {},
   "outputs": [],
   "source": []
  }
 ],
 "metadata": {
  "kernelspec": {
   "display_name": "Python 3 (ipykernel)",
   "language": "python",
   "name": "python3"
  },
  "language_info": {
   "codemirror_mode": {
    "name": "ipython",
    "version": 3
   },
   "file_extension": ".py",
   "mimetype": "text/x-python",
   "name": "python",
   "nbconvert_exporter": "python",
   "pygments_lexer": "ipython3",
   "version": "3.10.6"
  }
 },
 "nbformat": 4,
 "nbformat_minor": 5
}
