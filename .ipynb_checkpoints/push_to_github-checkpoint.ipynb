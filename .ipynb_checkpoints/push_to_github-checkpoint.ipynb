{
 "cells": [
  {
   "cell_type": "code",
   "execution_count": 29,
   "id": "5aaaf723",
   "metadata": {},
   "outputs": [
    {
     "name": "stdout",
     "output_type": "stream",
     "text": [
      "Initialized empty Git repository in /home/ubuntu/notebook_folder/CNN_Digit_Recognizer/.git/\r\n"
     ]
    }
   ],
   "source": [
    "!rm -rf .git\n",
    "!git init"
   ]
  },
  {
   "cell_type": "code",
   "execution_count": 30,
   "id": "daa1a36e",
   "metadata": {},
   "outputs": [
    {
     "name": "stdout",
     "output_type": "stream",
     "text": [
      "[master (root-commit) 5e8ccd6] 1\n",
      " 18 files changed, 10071 insertions(+)\n",
      " create mode 100644 .gitignore\n",
      " create mode 100644 .ipynb_checkpoints/push_to_github-checkpoint.ipynb\n",
      " create mode 100644 .ipynb_checkpoints/test-checkpoint.ipynb\n",
      " create mode 100644 __pycache__/config.cpython-310.pyc\n",
      " create mode 100644 __pycache__/getdata.cpython-310.pyc\n",
      " create mode 100644 __pycache__/network.cpython-310.pyc\n",
      " create mode 100644 config.py\n",
      " create mode 100644 \"datasets/test/\\345\\215\\240\\344\\275\\215\\346\\226\\207\\344\\273\\266\"\n",
      " create mode 100644 \"datasets/train/\\345\\215\\240\\344\\275\\215\\346\\226\\207\\344\\273\\266\"\n",
      " create mode 100644 getdata.py\n",
      " create mode 100644 \"model/\\345\\215\\240\\344\\275\\215\\346\\226\\207\\344\\273\\266\"\n",
      " create mode 100644 network.py\n",
      " create mode 100644 push_to_github.ipynb\n",
      " create mode 100644 run.log\n",
      " create mode 100644 \"submission/\\345\\215\\240\\344\\275\\215\\346\\226\\207\\344\\273\\266\"\n",
      " create mode 100644 test.ipynb\n",
      " create mode 100644 test.py\n",
      " create mode 100644 train.py\n",
      "Enumerating objects: 20, done.\n",
      "Counting objects: 100% (20/20), done.\n",
      "Delta compression using up to 2 threads\n",
      "Compressing objects: 100% (17/17), done.\n",
      "Writing objects: 100% (20/20), 92.43 KiB | 308.00 KiB/s, done.\n",
      "Total 20 (delta 1), reused 0 (delta 0), pack-reused 0\n",
      "remote: Resolving deltas: 100% (1/1), done.\u001b[K\n",
      "To github.com:zibingo/static.git\n",
      " + 51fb07a...5e8ccd6 master -> master (forced update)\n",
      "Branch 'master' set up to track remote branch 'master' from 'master'.\n"
     ]
    }
   ],
   "source": [
    "!git add --all\n",
    "!git commit -m \"1\"\n",
    "!git remote add master git@github.com:zibingo/static.git\n",
    "!git push -u master -f"
   ]
  },
  {
   "cell_type": "code",
   "execution_count": null,
   "id": "57999939",
   "metadata": {},
   "outputs": [],
   "source": []
  },
  {
   "cell_type": "code",
   "execution_count": null,
   "id": "c55e1677",
   "metadata": {},
   "outputs": [],
   "source": []
  }
 ],
 "metadata": {
  "kernelspec": {
   "display_name": "Python 3 (ipykernel)",
   "language": "python",
   "name": "python3"
  },
  "language_info": {
   "codemirror_mode": {
    "name": "ipython",
    "version": 3
   },
   "file_extension": ".py",
   "mimetype": "text/x-python",
   "name": "python",
   "nbconvert_exporter": "python",
   "pygments_lexer": "ipython3",
   "version": "3.10.6"
  }
 },
 "nbformat": 4,
 "nbformat_minor": 5
}
