{
 "cells": [
  {
   "cell_type": "code",
   "execution_count": null,
   "id": "c902aaba",
   "metadata": {},
   "outputs": [],
   "source": [
    "import pandas as pd\n",
    "import numpy as np\n",
    "import config\n",
    "data_df = pd.read_csv(config.train_data_path)\n",
    "data_df.head()\n",
    "label_df = data_df[\"label\"]\n",
    "feature_df = data_df.drop(\"label\", axis=1)\n",
    "print(feature_df.shape)\n",
    "# 归一化处理\n",
    "feature_df = feature_df/255.0\n",
    "# 进行数据变换，变换成1*28*28(C*H*W)的图像输入形式\n",
    "feature_df = feature_df.apply(lambda x:x.values.reshape(1,28,28), axis=1)\n",
    "feature_df\n"
   ]
  },
  {
   "cell_type": "code",
   "execution_count": null,
   "id": "e5eb8fde",
   "metadata": {},
   "outputs": [],
   "source": [
    "import torch\n",
    "from torchvision import transforms\n",
    "import numpy as np\n",
    "import pandas as pd\n",
    "from torch.utils.data import Dataset\n",
    "\n",
    "import config\n",
    "\n",
    "class TrainDataset(Dataset):\n",
    "    def __init__(self,train_data_path):\n",
    "        data_df = pd.read_csv(train_data_path)\n",
    "        label_df = data_df[\"label\"]\n",
    "        feature_df = data_df.drop(\"label\", axis=1)\n",
    "        # 归一化处理\n",
    "        feature_df = feature_df/255.0\n",
    "        # 进行数据变换，变换成1*28*28(C*H*W)的图像输入形式\n",
    "        feature_df = feature_df.apply(lambda x:x.values.reshape(1,28,28), axis=1)\n",
    "        self.label_df = label_df\n",
    "        self.images = feature_df\n",
    "        self.transform = transforms.ToTensor()\n",
    "\n",
    "    def __len__(self):\n",
    "        return len(self.label_df)\n",
    "    def __getitem__(self,index):\n",
    "        return self.label_df[index],self.transform(self.images[index])\n",
    "\n",
    "train_dataset = TrainDataset(config.train_data_path)\n",
    "##可视化展示一下图片\n",
    "import matplotlib.pyplot as plt\n",
    "figure = plt.figure(figsize=(8, 8))\n",
    "cols, rows = 4, 1\n",
    "for i in range(1, cols * rows + 1):\n",
    "    sample_idx = torch.randint(train_dataset.__len__(), size=(1,)).item()\n",
    "    label, img = train_dataset[sample_idx]\n",
    "    figure.add_subplot(rows, cols, i)\n",
    "    plt.title(label)\n",
    "    plt.axis(\"off\") # 不显示坐标轴\n",
    "    # squeeze是降维，去除度数1的维度，如灰度图像中C(通道)=1，绘制图像时不需要通道C这个维度，直接传递二维矩阵即可，所以将其去除，但这里由于img是28*28的矩阵不带C这个维度，所以不需要squeeze(),所以不需要squeeze在这里不起作用\n",
    "    plt.imshow(img.squeeze(), cmap=\"gray\")\n",
    "plt.show()\n"
   ]
  },
  {
   "cell_type": "code",
   "execution_count": null,
   "id": "199762cd",
   "metadata": {},
   "outputs": [],
   "source": [
    "import torch\n",
    "import matplotlib.pyplot as plt\n",
    "import config\n",
    "epochs = []\n",
    "loss_list = []\n",
    "\n",
    "def scatter(epochs_list,loss_list):\n",
    "    plt.figure(figsize=(10, 10), dpi=100)\n",
    "    plt.scatter(epochs_list, loss_list)\n",
    "    plt.show()\n",
    "for i in range(1,2001):\n",
    "    checkpoint = torch.load(config.model_path + \"checkpoint_model_{}.pth\".format(i), map_location='cpu')\n",
    "    epochs.append(i)\n",
    "    loss_list.append(checkpoint[\"total_loss\"])\n",
    "scatter(epochs,loss_list)\n",
    "    "
   ]
  },
  {
   "cell_type": "code",
   "execution_count": null,
   "id": "db57e712",
   "metadata": {},
   "outputs": [],
   "source": []
  }
 ],
 "metadata": {
  "kernelspec": {
   "display_name": "Python 3 (ipykernel)",
   "language": "python",
   "name": "python3"
  },
  "language_info": {
   "codemirror_mode": {
    "name": "ipython",
    "version": 3
   },
   "file_extension": ".py",
   "mimetype": "text/x-python",
   "name": "python",
   "nbconvert_exporter": "python",
   "pygments_lexer": "ipython3",
   "version": "3.10.6"
  }
 },
 "nbformat": 4,
 "nbformat_minor": 5
}
